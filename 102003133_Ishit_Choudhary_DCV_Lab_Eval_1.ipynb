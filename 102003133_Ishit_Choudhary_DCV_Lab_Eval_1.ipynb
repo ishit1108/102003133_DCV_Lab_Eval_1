{
  "nbformat": 4,
  "nbformat_minor": 0,
  "metadata": {
    "colab": {
      "provenance": []
    },
    "kernelspec": {
      "name": "python3",
      "display_name": "Python 3"
    },
    "language_info": {
      "name": "python"
    },
    "accelerator": "GPU",
    "gpuClass": "standard"
  },
  "cells": [
    {
      "cell_type": "markdown",
      "source": [
        "# 1) Load Breast Cancer Dataset"
      ],
      "metadata": {
        "id": "b7lZFKYum4L_"
      }
    },
    {
      "cell_type": "code",
      "execution_count": 1,
      "metadata": {
        "colab": {
          "base_uri": "https://localhost:8080/"
        },
        "id": "jbk3wexGm3nJ",
        "outputId": "68d20ef9-a4e3-4a1d-dbc6-a2064a60eac3"
      },
      "outputs": [
        {
          "output_type": "stream",
          "name": "stdout",
          "text": [
            "Looking in indexes: https://pypi.org/simple, https://us-python.pkg.dev/colab-wheels/public/simple/\n",
            "Collecting opendatasets\n",
            "  Downloading opendatasets-0.1.22-py3-none-any.whl (15 kB)\n",
            "Requirement already satisfied: kaggle in /usr/local/lib/python3.8/dist-packages (from opendatasets) (1.5.12)\n",
            "Requirement already satisfied: click in /usr/local/lib/python3.8/dist-packages (from opendatasets) (7.1.2)\n",
            "Requirement already satisfied: tqdm in /usr/local/lib/python3.8/dist-packages (from opendatasets) (4.64.1)\n",
            "Requirement already satisfied: certifi in /usr/local/lib/python3.8/dist-packages (from kaggle->opendatasets) (2022.12.7)\n",
            "Requirement already satisfied: six>=1.10 in /usr/local/lib/python3.8/dist-packages (from kaggle->opendatasets) (1.15.0)\n",
            "Requirement already satisfied: urllib3 in /usr/local/lib/python3.8/dist-packages (from kaggle->opendatasets) (1.24.3)\n",
            "Requirement already satisfied: requests in /usr/local/lib/python3.8/dist-packages (from kaggle->opendatasets) (2.25.1)\n",
            "Requirement already satisfied: python-slugify in /usr/local/lib/python3.8/dist-packages (from kaggle->opendatasets) (8.0.0)\n",
            "Requirement already satisfied: python-dateutil in /usr/local/lib/python3.8/dist-packages (from kaggle->opendatasets) (2.8.2)\n",
            "Requirement already satisfied: text-unidecode>=1.3 in /usr/local/lib/python3.8/dist-packages (from python-slugify->kaggle->opendatasets) (1.3)\n",
            "Requirement already satisfied: chardet<5,>=3.0.2 in /usr/local/lib/python3.8/dist-packages (from requests->kaggle->opendatasets) (4.0.0)\n",
            "Requirement already satisfied: idna<3,>=2.5 in /usr/local/lib/python3.8/dist-packages (from requests->kaggle->opendatasets) (2.10)\n",
            "Installing collected packages: opendatasets\n",
            "Successfully installed opendatasets-0.1.22\n"
          ]
        }
      ],
      "source": [
        "!pip install opendatasets"
      ]
    },
    {
      "cell_type": "code",
      "source": [
        "import opendatasets as od\n",
        "import pandas\n",
        "import numpy as np\n",
        "import pandas as pd\n",
        "import cv2 as cv\n",
        "from google.colab.patches import cv2_imshow\n",
        "from skimage import io\n",
        "from PIL import Image\n",
        "import matplotlib.pylab as plt\n",
        "from numpy import array\n",
        "from sys import getsizeof\n",
        "import os\n",
        "import cv2"
      ],
      "metadata": {
        "id": "OGc21I6fnDCl"
      },
      "execution_count": 2,
      "outputs": []
    },
    {
      "cell_type": "code",
      "source": [
        "od.download(\"https://www.kaggle.com/datasets/aryashah2k/breast-ultrasound-images-dataset\")\n",
        "# Copy and paste the following to load the datasets\n",
        "# Kaggle username: ishitchoudhary\n",
        "# Kaggle Key: 4f592f5cbf329af64cc4680ebc7cdd42"
      ],
      "metadata": {
        "colab": {
          "base_uri": "https://localhost:8080/"
        },
        "id": "onO8KW_dnEuE",
        "outputId": "0410bff9-889b-4e66-afb6-c1707ded89d1"
      },
      "execution_count": 3,
      "outputs": [
        {
          "output_type": "stream",
          "name": "stdout",
          "text": [
            "Please provide your Kaggle credentials to download this dataset. Learn more: http://bit.ly/kaggle-creds\n",
            "Your Kaggle username: ishitchoudhary\n",
            "Your Kaggle Key: ··········\n",
            "Downloading breast-ultrasound-images-dataset.zip to ./breast-ultrasound-images-dataset\n"
          ]
        },
        {
          "output_type": "stream",
          "name": "stderr",
          "text": [
            "100%|██████████| 195M/195M [00:09<00:00, 22.0MB/s]\n"
          ]
        },
        {
          "output_type": "stream",
          "name": "stdout",
          "text": [
            "\n"
          ]
        }
      ]
    },
    {
      "cell_type": "markdown",
      "source": [
        "# 2) Apply LBP and PCA"
      ],
      "metadata": {
        "id": "g3S8Q7cx77ZQ"
      }
    },
    {
      "cell_type": "markdown",
      "source": [
        "Making Directories "
      ],
      "metadata": {
        "id": "AIj_7Qqe5waC"
      }
    },
    {
      "cell_type": "code",
      "source": [
        "import os\n",
        "try:\n",
        "    os.mkdir('/content/b')\n",
        "except:\n",
        "    print('Error 1')\n",
        "try:\n",
        "    os.mkdir('/content/m')\n",
        "except:\n",
        "    print('Error 12')\n",
        "try:\n",
        "    os.mkdir('/content/n')\n",
        "except:\n",
        "    print('Error 13')\n",
        "\n",
        "b = '/content/breast-ultrasound-images-dataset/Dataset_BUSI_with_GT/benign'\n",
        "for filename in os.listdir(b):\n",
        "    if 'mask' in filename:\n",
        "        original_image = cv2.imread(os.path.join(b,filename))\n",
        "        writepath = os.path.join('/content/b',filename)\n",
        "        cv2.imwrite(writepath,original_image)\n",
        "\n",
        "m = '/content/breast-ultrasound-images-dataset/Dataset_BUSI_with_GT/malignant'\n",
        "for filename in os.listdir(m):\n",
        "    if 'mask' in filename:\n",
        "        original_image = cv2.imread(os.path.join(m,filename))\n",
        "        writepath = os.path.join('/content/m',filename)\n",
        "        cv2.imwrite(writepath,original_image)\n",
        "\n",
        "n = '/content/breast-ultrasound-images-dataset/Dataset_BUSI_with_GT/normal'\n",
        "for filename in os.listdir(n):\n",
        "    if 'mask' in filename:\n",
        "        original_image = cv2.imread(os.path.join(n,filename))\n",
        "        writepath = os.path.join('/content/n',filename)\n",
        "        cv2.imwrite(writepath,original_image)"
      ],
      "metadata": {
        "id": "RBfT_TREv3fl"
      },
      "execution_count": 4,
      "outputs": []
    },
    {
      "cell_type": "markdown",
      "source": [
        "Applying LBP in new directories"
      ],
      "metadata": {
        "id": "5a8ojDBQ51bT"
      }
    },
    {
      "cell_type": "code",
      "source": [
        "def get_pixel(img, center, x, y):  \n",
        "    new_value = 0 \n",
        "    try:\n",
        "        # If local neighbourhood pixel value is greater than or equal\n",
        "        # to center pixel values then set it to 1\n",
        "        if img[x][y] >= center:\n",
        "            new_value = 1         \n",
        "    except:\n",
        "        # Exception is required when neighbourhood value of a center\n",
        "        # pixel value is null i.e. valuespresent at boundaries.\n",
        "        pass\n",
        "    return new_value\n",
        "   \n",
        "# Function for calculating LBP\n",
        "def lbp_calculated_pixel(img, x, y):\n",
        "    center = img[x][y]\n",
        "    val_ar = []\n",
        "    # top_left\n",
        "    val_ar.append(get_pixel(img, center, x-1, y-1))\n",
        "    # top\n",
        "    val_ar.append(get_pixel(img, center, x-1, y))\n",
        "    # top_right\n",
        "    val_ar.append(get_pixel(img, center, x-1, y + 1))\n",
        "    # right\n",
        "    val_ar.append(get_pixel(img, center, x, y + 1))\n",
        "    # bottom_right\n",
        "    val_ar.append(get_pixel(img, center, x + 1, y + 1))\n",
        "    # bottom\n",
        "    val_ar.append(get_pixel(img, center, x + 1, y))\n",
        "    # bottom_left\n",
        "    val_ar.append(get_pixel(img, center, x + 1, y-1))\n",
        "    # left\n",
        "    val_ar.append(get_pixel(img, center, x, y-1))\n",
        "    # Now, we need to convert binary\n",
        "    # values to decimal\n",
        "    power_val = [1, 2, 4, 8, 16, 32, 64, 128]\n",
        "    val = 0\n",
        "    for i in range(len(val_ar)):\n",
        "        val += val_ar[i] * power_val[i]    \n",
        "    return val\n",
        "   \n",
        "# Applying LBP on all mask images\n",
        "for filename in os.listdir(b):\n",
        "    if 'mask'in filename:\n",
        "        img_bgr = cv2.imread(os.path.join(b,filename),1)\n",
        "        height, width, _ = img_bgr.shape\n",
        "        img_gray = cv2.cvtColor(img_bgr,cv2.COLOR_BGR2GRAY)\n",
        "        img_lbp = np.zeros((height, width),np.uint8)\n",
        "        for i in range(0, height):\n",
        "            for j in range(0, width):\n",
        "                img_lbp[i, j] = lbp_calculated_pixel(img_gray, i, j)\n",
        "        write_path = os.path.join(b,filename)\n",
        "        cv2.imwrite(write_path,img_lbp)\n",
        "\n",
        "for filename in os.listdir(m):\n",
        "    if 'mask'in filename:\n",
        "        img_bgr = cv2.imread(os.path.join(m,filename),1)\n",
        "        height, width, _ = img_bgr.shape\n",
        "        img_gray = cv2.cvtColor(img_bgr,cv2.COLOR_BGR2GRAY)\n",
        "        img_lbp = np.zeros((height, width),np.uint8)\n",
        "        for i in range(0, height):\n",
        "            for j in range(0, width):\n",
        "                img_lbp[i, j] = lbp_calculated_pixel(img_gray, i, j)\n",
        "        write_path = os.path.join(m,filename)\n",
        "        cv2.imwrite(write_path,img_lbp)\n",
        "\n",
        "for filename in os.listdir(n):\n",
        "    if 'mask'in filename:\n",
        "        img_bgr = cv2.imread(os.path.join(n,filename),1)\n",
        "        height, width, _ = img_bgr.shape\n",
        "        img_gray = cv2.cvtColor(img_bgr,cv2.COLOR_BGR2GRAY)\n",
        "        img_lbp = np.zeros((height, width),np.uint8)\n",
        "        for i in range(0, height):\n",
        "            for j in range(0, width):\n",
        "                img_lbp[i, j] = lbp_calculated_pixel(img_gray, i, j)\n",
        "        write_path = os.path.join(n,filename)\n",
        "        cv2.imwrite(write_path,img_lbp)"
      ],
      "metadata": {
        "id": "nphWZnAD55Ew"
      },
      "execution_count": 5,
      "outputs": []
    },
    {
      "cell_type": "markdown",
      "source": [
        "Applying PCA"
      ],
      "metadata": {
        "id": "rsp40oeK55UR"
      }
    },
    {
      "cell_type": "code",
      "source": [
        "from sklearn.decomposition import PCA\n",
        "try:\n",
        "    os.mkdir('/content/pca3')\n",
        "except:\n",
        "    print('Error 13')\n",
        "\n",
        "count_b = 0\n",
        "count_m = 0\n",
        "count_n = 0\n",
        "\n",
        "for filename in os.listdir(b):\n",
        "    if 'mask'in filename:\n",
        "        try:\n",
        "            new_image = cv2.imread(os.path.join(b,filename),0)\n",
        "            new_image = cv2.resize(new_image,(240,240))\n",
        "            pca = PCA(200).fit(new_image) \n",
        "            img_transformed = pca.transform(new_image)\n",
        "            write_path = os.path.join('/content/pca3','AAAA'+filename)\n",
        "            cv2.imwrite(write_path,img_transformed)\n",
        "            count_b += 1\n",
        "        except:\n",
        "            pass\n"
      ],
      "metadata": {
        "id": "Q5TbphWm1JG-"
      },
      "execution_count": 20,
      "outputs": []
    },
    {
      "cell_type": "code",
      "source": [
        "for filename in os.listdir(m):\n",
        "    if 'mask'in filename:\n",
        "        try:\n",
        "            new_image = cv2.imread(os.path.join(m,filename),0)\n",
        "            new_image = cv2.resize(new_image,(240,240))\n",
        "            pca = PCA(200).fit(new_image) \n",
        "            img_transformed = pca.transform(new_image)\n",
        "            write_path = os.path.join('/content/pca3','BBBB'+filename)\n",
        "            cv2.imwrite(write_path,img_transformed)\n",
        "            count_m += 1\n",
        "        except:\n",
        "            pass"
      ],
      "metadata": {
        "id": "gXBnF2PJ3JQi"
      },
      "execution_count": 21,
      "outputs": []
    },
    {
      "cell_type": "code",
      "source": [
        "for filename in os.listdir(n):\n",
        "    if 'mask'in filename:\n",
        "        try:\n",
        "            new_image = cv2.imread(os.path.join(n,filename),0)\n",
        "            new_image = cv2.resize(new_image,(240,240))\n",
        "            pca = PCA(200).fit(new_image) \n",
        "            img_transformed = pca.transform(new_image)\n",
        "            write_path = os.path.join('/content/pca3','CCCC'+filename)\n",
        "            cv2.imwrite(write_path,img_transformed)\n",
        "            count_n += 1\n",
        "        except:\n",
        "            pass"
      ],
      "metadata": {
        "id": "VtM_pqgo3JZV"
      },
      "execution_count": 22,
      "outputs": []
    },
    {
      "cell_type": "markdown",
      "source": [
        "# 3) Applying Models 4) Performance Matrix\n"
      ],
      "metadata": {
        "id": "q_g94X817t3i"
      }
    },
    {
      "cell_type": "code",
      "source": [
        "# Creating Dataset\n",
        "def get_image(file_path):\n",
        "    img = Image.open(file_path)\n",
        "    return np.array(img)\n",
        "\n",
        "def create_features(img):\n",
        "    # flatten three channel color image\n",
        "    color_features = img.flatten()\n",
        "    return color_features\n",
        "\n",
        "def create_feature_matrix(dir):\n",
        "    features_list = []\n",
        "    \n",
        "    for filename in os.listdir(dir):\n",
        "        # load image\n",
        "        img = get_image(os.path.join(dir,filename))\n",
        "        # get features for image\n",
        "        image_features = create_features(img)\n",
        "        features_list.append(image_features)\n",
        "        \n",
        "    # convert list of arrays into a matrix\n",
        "    feature_matrix = np.array(features_list)\n",
        "    return feature_matrix\n",
        "\n",
        "# run create_feature_matrix on our dataframe of images\n",
        "feature_matrix = create_feature_matrix('/content/pca3')"
      ],
      "metadata": {
        "id": "AI5nEZ1z7n1L"
      },
      "execution_count": 23,
      "outputs": []
    },
    {
      "cell_type": "code",
      "source": [
        "# Creating a Labels list\n",
        "lst1 = ['benign' for i in range(count_b)]\n",
        "lst2 = ['malignant' for i in range(count_m)]\n",
        "lst3 = ['normal' for i in range(count_n)]\n",
        "label = []\n",
        "label.extend(lst1)\n",
        "label.extend(lst2)\n",
        "label.extend(lst3)"
      ],
      "metadata": {
        "id": "-kzEoZND7n_i"
      },
      "execution_count": 24,
      "outputs": []
    },
    {
      "cell_type": "code",
      "source": [
        "from sklearn.model_selection import train_test_split\n",
        "from sklearn.metrics import accuracy_score\n",
        "from sklearn.svm import SVC\n",
        "from sklearn.metrics import roc_curve, auc\n",
        "\n",
        "X = pd.DataFrame(feature_matrix)\n",
        "y = pd.Series(label)\n",
        "X_train, X_test, y_train, y_test = train_test_split(X,y,test_size=.3,random_state=42)\n",
        "\n",
        "# look at the distrubution of labels in the train set\n",
        "pd.Series(y_train).value_counts()"
      ],
      "metadata": {
        "colab": {
          "base_uri": "https://localhost:8080/"
        },
        "id": "6HVly8PSBxA2",
        "outputId": "4d750c78-70e2-4573-aa16-84ab69f4991c"
      },
      "execution_count": 25,
      "outputs": [
        {
          "output_type": "execute_result",
          "data": {
            "text/plain": [
              "benign       311\n",
              "malignant    146\n",
              "normal       100\n",
              "dtype: int64"
            ]
          },
          "metadata": {},
          "execution_count": 25
        }
      ]
    },
    {
      "cell_type": "markdown",
      "source": [
        "## Applying SVM (SVC)"
      ],
      "metadata": {
        "id": "0b30uNJQCMne"
      }
    },
    {
      "cell_type": "code",
      "source": [
        "# define support vector classifier\n",
        "svm = SVC(kernel='linear', probability=True, random_state=42)\n",
        "# fit model\n",
        "svm.fit(X_train, y_train)"
      ],
      "metadata": {
        "colab": {
          "base_uri": "https://localhost:8080/"
        },
        "id": "wUv3rL6pBxDm",
        "outputId": "a11b67b8-9102-4c59-a424-27adc44d845f"
      },
      "execution_count": 26,
      "outputs": [
        {
          "output_type": "execute_result",
          "data": {
            "text/plain": [
              "SVC(kernel='linear', probability=True, random_state=42)"
            ]
          },
          "metadata": {},
          "execution_count": 26
        }
      ]
    },
    {
      "cell_type": "code",
      "source": [
        "# generate predictions\n",
        "y_pred = svm.predict(X_test)\n",
        "# calculate accuracy\n",
        "accuracy = accuracy_score(y_test, y_pred)"
      ],
      "metadata": {
        "id": "qrR1ZbdqBxGm"
      },
      "execution_count": 29,
      "outputs": []
    },
    {
      "cell_type": "code",
      "source": [
        "print('Model accuracy is: ', accuracy)"
      ],
      "metadata": {
        "colab": {
          "base_uri": "https://localhost:8080/"
        },
        "id": "1_pUuZoBEzMI",
        "outputId": "d65a4f8d-a482-46ab-9eb3-2d037cbff7a0"
      },
      "execution_count": 31,
      "outputs": [
        {
          "output_type": "stream",
          "name": "stdout",
          "text": [
            "Model accuracy is:  0.7225941422594142\n"
          ]
        }
      ]
    },
    {
      "cell_type": "code",
      "source": [
        "from sklearn.metrics import confusion_matrix\n",
        "from sklearn.metrics import precision_score, recall_score, f1_score, accuracy_score\n",
        "import matplotlib.pyplot as plt\n",
        "conf_matrix = confusion_matrix(y_true=y_test, y_pred=y_pred)"
      ],
      "metadata": {
        "id": "ww-L6qjoBxHa"
      },
      "execution_count": 35,
      "outputs": []
    },
    {
      "cell_type": "code",
      "source": [
        "fig, ax = plt.subplots(figsize=(5, 5))\n",
        "ax.matshow(conf_matrix, cmap=plt.cm.Oranges, alpha=0.3)\n",
        "for i in range(conf_matrix.shape[0]):\n",
        "    for j in range(conf_matrix.shape[1]):\n",
        "        ax.text(x=j, y=i,s=conf_matrix[i, j], va='center', ha='center')\n",
        "        plt.xlabel('Predictions', fontsize=18)\n",
        "plt.ylabel('Actuals', fontsize=18)\n",
        "plt.title('Confusion Matrix', fontsize=18)\n",
        "plt.show()"
      ],
      "metadata": {
        "colab": {
          "base_uri": "https://localhost:8080/",
          "height": 358
        },
        "id": "K9mq7h7pFhE3",
        "outputId": "8fd14961-1345-44ae-fa03-73d87a4f8342"
      },
      "execution_count": 39,
      "outputs": [
        {
          "output_type": "display_data",
          "data": {
            "text/plain": [
              "<Figure size 360x360 with 1 Axes>"
            ],
            "image/png": "[encoded data removed]"
          },
          "metadata": {
            "needs_background": "light"
          }
        }
      ]
    },
    {
      "cell_type": "code",
      "source": [
        "f1_score = f1_score(y_test, y_pred,average='weighted')"
      ],
      "metadata": {
        "id": "aQqDkgS5GSts"
      },
      "execution_count": 41,
      "outputs": []
    },
    {
      "cell_type": "code",
      "source": [
        "print(f1_score)"
      ],
      "metadata": {
        "colab": {
          "base_uri": "https://localhost:8080/"
        },
        "id": "5GMB643RGSwg",
        "outputId": "0224a01e-efb3-4cf3-f002-174e8fd216f0"
      },
      "execution_count": 45,
      "outputs": [
        {
          "output_type": "stream",
          "name": "stdout",
          "text": [
            "0.723882362869203\n"
          ]
        }
      ]
    },
    {
      "cell_type": "code",
      "source": [
        "# Manually calculating type 1 and type 2 error from confusion matrix\n",
        "print('Type 1 Error',(15/219))\n",
        "print('Type 2 Error',(13/219))"
      ],
      "metadata": {
        "colab": {
          "base_uri": "https://localhost:8080/"
        },
        "id": "0H7ShZ-iG7Kp",
        "outputId": "afa9aa18-9f8f-4f35-fa5e-9f818b97cb1a"
      },
      "execution_count": 46,
      "outputs": [
        {
          "output_type": "stream",
          "name": "stdout",
          "text": [
            "Type 1 Error 0.0684931506849315\n",
            "Type 2 Error 0.0593607305936073\n"
          ]
        }
      ]
    },
    {
      "cell_type": "code",
      "source": [
        "# Storing Results for comparision later\n",
        "svc_t1e = (15/219)\n",
        "svc_t2e = (13/219)\n",
        "svc_f1s = f1_score\n",
        "svc_acc = accuracy"
      ],
      "metadata": {
        "id": "ADUJ_xWoKBgB"
      },
      "execution_count": 53,
      "outputs": []
    },
    {
      "cell_type": "markdown",
      "source": [
        "## Applying Xg Boost"
      ],
      "metadata": {
        "id": "PtUUnchwH4cJ"
      }
    },
    {
      "cell_type": "code",
      "source": [
        "import xgboost as xgb\n",
        "from sklearn.model_selection import train_test_split, GridSearchCV\n",
        "from sklearn.metrics import confusion_matrix, plot_confusion_matrix, classification_report\n",
        "from sklearn.metrics import balanced_accuracy_score, accuracy_score, precision_score, recall_score, f1_score\n",
        "from sklearn.utils.class_weight import compute_sample_weight"
      ],
      "metadata": {
        "id": "V8lVzVQPG7QK"
      },
      "execution_count": 47,
      "outputs": []
    },
    {
      "cell_type": "code",
      "source": [
        "xgb_clf = xgb.XGBClassifier(objective='multi:softmax', num_class=3, missing=1, early_stopping_rounds=10, eval_metric=['merror','mlogloss'], seed=42)"
      ],
      "metadata": {
        "id": "QsnI3cLJG7WI"
      },
      "execution_count": 49,
      "outputs": []
    },
    {
      "cell_type": "code",
      "source": [
        "xgb_clf.fit(X_train, y_train,verbose=1, eval_set=[(X_train, y_train), (X_test, y_test)])"
      ],
      "metadata": {
        "colab": {
          "base_uri": "https://localhost:8080/"
        },
        "id": "r1N-h6hhIrBF",
        "outputId": "433e8e22-5151-410f-dbc3-1918331a1c61"
      },
      "execution_count": 52,
      "outputs": [
        {
          "output_type": "stream",
          "name": "stdout",
          "text": [
            "[0]\tvalidation_0-merror:0.312388\tvalidation_0-mlogloss:1.06186\tvalidation_1-merror:0.481172\tvalidation_1-mlogloss:1.07797\n",
            "[1]\tvalidation_0-merror:0.308797\tvalidation_0-mlogloss:1.02948\tvalidation_1-merror:0.451883\tvalidation_1-mlogloss:1.06147\n",
            "[2]\tvalidation_0-merror:0.298025\tvalidation_0-mlogloss:1.00044\tvalidation_1-merror:0.460251\tvalidation_1-mlogloss:1.04756\n",
            "[3]\tvalidation_0-merror:0.29982\tvalidation_0-mlogloss:0.97416\tvalidation_1-merror:0.443515\tvalidation_1-mlogloss:1.03711\n",
            "[4]\tvalidation_0-merror:0.29982\tvalidation_0-mlogloss:0.950374\tvalidation_1-merror:0.456067\tvalidation_1-mlogloss:1.02692\n",
            "[5]\tvalidation_0-merror:0.292639\tvalidation_0-mlogloss:0.928383\tvalidation_1-merror:0.456067\tvalidation_1-mlogloss:1.01982\n",
            "[6]\tvalidation_0-merror:0.294434\tvalidation_0-mlogloss:0.908159\tvalidation_1-merror:0.456067\tvalidation_1-mlogloss:1.01317\n",
            "[7]\tvalidation_0-merror:0.29623\tvalidation_0-mlogloss:0.89105\tvalidation_1-merror:0.451883\tvalidation_1-mlogloss:1.00611\n",
            "[8]\tvalidation_0-merror:0.29623\tvalidation_0-mlogloss:0.874425\tvalidation_1-merror:0.451883\tvalidation_1-mlogloss:1.00156\n",
            "[9]\tvalidation_0-merror:0.289048\tvalidation_0-mlogloss:0.856582\tvalidation_1-merror:0.435146\tvalidation_1-mlogloss:0.99754\n",
            "[10]\tvalidation_0-merror:0.280072\tvalidation_0-mlogloss:0.842727\tvalidation_1-merror:0.435146\tvalidation_1-mlogloss:0.993466\n",
            "[11]\tvalidation_0-merror:0.276481\tvalidation_0-mlogloss:0.829299\tvalidation_1-merror:0.435146\tvalidation_1-mlogloss:0.989529\n",
            "[12]\tvalidation_0-merror:0.271095\tvalidation_0-mlogloss:0.814227\tvalidation_1-merror:0.435146\tvalidation_1-mlogloss:0.987386\n",
            "[13]\tvalidation_0-merror:0.27289\tvalidation_0-mlogloss:0.80275\tvalidation_1-merror:0.439331\tvalidation_1-mlogloss:0.985888\n",
            "[14]\tvalidation_0-merror:0.263914\tvalidation_0-mlogloss:0.790078\tvalidation_1-merror:0.426778\tvalidation_1-mlogloss:0.982108\n",
            "[15]\tvalidation_0-merror:0.258528\tvalidation_0-mlogloss:0.77848\tvalidation_1-merror:0.422594\tvalidation_1-mlogloss:0.980856\n",
            "[16]\tvalidation_0-merror:0.258528\tvalidation_0-mlogloss:0.767557\tvalidation_1-merror:0.430962\tvalidation_1-mlogloss:0.979857\n",
            "[17]\tvalidation_0-merror:0.258528\tvalidation_0-mlogloss:0.755983\tvalidation_1-merror:0.435146\tvalidation_1-mlogloss:0.977894\n",
            "[18]\tvalidation_0-merror:0.253142\tvalidation_0-mlogloss:0.746704\tvalidation_1-merror:0.435146\tvalidation_1-mlogloss:0.977872\n",
            "[19]\tvalidation_0-merror:0.247756\tvalidation_0-mlogloss:0.737227\tvalidation_1-merror:0.435146\tvalidation_1-mlogloss:0.976417\n",
            "[20]\tvalidation_0-merror:0.24237\tvalidation_0-mlogloss:0.728396\tvalidation_1-merror:0.439331\tvalidation_1-mlogloss:0.974773\n",
            "[21]\tvalidation_0-merror:0.235189\tvalidation_0-mlogloss:0.719407\tvalidation_1-merror:0.439331\tvalidation_1-mlogloss:0.975721\n",
            "[22]\tvalidation_0-merror:0.228007\tvalidation_0-mlogloss:0.709874\tvalidation_1-merror:0.439331\tvalidation_1-mlogloss:0.974509\n",
            "[23]\tvalidation_0-merror:0.231598\tvalidation_0-mlogloss:0.70133\tvalidation_1-merror:0.435146\tvalidation_1-mlogloss:0.975438\n",
            "[24]\tvalidation_0-merror:0.226212\tvalidation_0-mlogloss:0.693467\tvalidation_1-merror:0.439331\tvalidation_1-mlogloss:0.976668\n",
            "[25]\tvalidation_0-merror:0.219031\tvalidation_0-mlogloss:0.684652\tvalidation_1-merror:0.435146\tvalidation_1-mlogloss:0.975228\n",
            "[26]\tvalidation_0-merror:0.217235\tvalidation_0-mlogloss:0.67788\tvalidation_1-merror:0.439331\tvalidation_1-mlogloss:0.973836\n",
            "[27]\tvalidation_0-merror:0.211849\tvalidation_0-mlogloss:0.670283\tvalidation_1-merror:0.435146\tvalidation_1-mlogloss:0.973423\n",
            "[28]\tvalidation_0-merror:0.211849\tvalidation_0-mlogloss:0.663371\tvalidation_1-merror:0.435146\tvalidation_1-mlogloss:0.973356\n",
            "[29]\tvalidation_0-merror:0.206463\tvalidation_0-mlogloss:0.655271\tvalidation_1-merror:0.439331\tvalidation_1-mlogloss:0.971304\n",
            "[30]\tvalidation_0-merror:0.199282\tvalidation_0-mlogloss:0.646383\tvalidation_1-merror:0.447699\tvalidation_1-mlogloss:0.969968\n",
            "[31]\tvalidation_0-merror:0.199282\tvalidation_0-mlogloss:0.641064\tvalidation_1-merror:0.451883\tvalidation_1-mlogloss:0.970546\n",
            "[32]\tvalidation_0-merror:0.193896\tvalidation_0-mlogloss:0.634627\tvalidation_1-merror:0.447699\tvalidation_1-mlogloss:0.971571\n",
            "[33]\tvalidation_0-merror:0.193896\tvalidation_0-mlogloss:0.628747\tvalidation_1-merror:0.447699\tvalidation_1-mlogloss:0.971239\n",
            "[34]\tvalidation_0-merror:0.193896\tvalidation_0-mlogloss:0.622252\tvalidation_1-merror:0.451883\tvalidation_1-mlogloss:0.972396\n",
            "[35]\tvalidation_0-merror:0.192101\tvalidation_0-mlogloss:0.61612\tvalidation_1-merror:0.447699\tvalidation_1-mlogloss:0.970011\n",
            "[36]\tvalidation_0-merror:0.190305\tvalidation_0-mlogloss:0.60992\tvalidation_1-merror:0.447699\tvalidation_1-mlogloss:0.971711\n",
            "[37]\tvalidation_0-merror:0.186715\tvalidation_0-mlogloss:0.603767\tvalidation_1-merror:0.443515\tvalidation_1-mlogloss:0.972085\n",
            "[38]\tvalidation_0-merror:0.183124\tvalidation_0-mlogloss:0.598356\tvalidation_1-merror:0.447699\tvalidation_1-mlogloss:0.973099\n",
            "[39]\tvalidation_0-merror:0.181329\tvalidation_0-mlogloss:0.591619\tvalidation_1-merror:0.447699\tvalidation_1-mlogloss:0.975763\n",
            "[40]\tvalidation_0-merror:0.177738\tvalidation_0-mlogloss:0.586801\tvalidation_1-merror:0.443515\tvalidation_1-mlogloss:0.975993\n",
            "[41]\tvalidation_0-merror:0.177738\tvalidation_0-mlogloss:0.581203\tvalidation_1-merror:0.443515\tvalidation_1-mlogloss:0.975573\n",
            "[42]\tvalidation_0-merror:0.174147\tvalidation_0-mlogloss:0.576371\tvalidation_1-merror:0.443515\tvalidation_1-mlogloss:0.976496\n",
            "[43]\tvalidation_0-merror:0.175943\tvalidation_0-mlogloss:0.571847\tvalidation_1-merror:0.451883\tvalidation_1-mlogloss:0.977595\n",
            "[44]\tvalidation_0-merror:0.170557\tvalidation_0-mlogloss:0.566334\tvalidation_1-merror:0.447699\tvalidation_1-mlogloss:0.977889\n",
            "[45]\tvalidation_0-merror:0.170557\tvalidation_0-mlogloss:0.56196\tvalidation_1-merror:0.443515\tvalidation_1-mlogloss:0.979055\n",
            "[46]\tvalidation_0-merror:0.168761\tvalidation_0-mlogloss:0.556438\tvalidation_1-merror:0.447699\tvalidation_1-mlogloss:0.979664\n",
            "[47]\tvalidation_0-merror:0.166966\tvalidation_0-mlogloss:0.552046\tvalidation_1-merror:0.443515\tvalidation_1-mlogloss:0.979859\n",
            "[48]\tvalidation_0-merror:0.165171\tvalidation_0-mlogloss:0.547142\tvalidation_1-merror:0.443515\tvalidation_1-mlogloss:0.980381\n",
            "[49]\tvalidation_0-merror:0.163375\tvalidation_0-mlogloss:0.542312\tvalidation_1-merror:0.443515\tvalidation_1-mlogloss:0.980323\n",
            "[50]\tvalidation_0-merror:0.159785\tvalidation_0-mlogloss:0.53832\tvalidation_1-merror:0.443515\tvalidation_1-mlogloss:0.978511\n",
            "[51]\tvalidation_0-merror:0.156194\tvalidation_0-mlogloss:0.533078\tvalidation_1-merror:0.443515\tvalidation_1-mlogloss:0.978903\n",
            "[52]\tvalidation_0-merror:0.156194\tvalidation_0-mlogloss:0.52849\tvalidation_1-merror:0.443515\tvalidation_1-mlogloss:0.980177\n",
            "[53]\tvalidation_0-merror:0.154399\tvalidation_0-mlogloss:0.524356\tvalidation_1-merror:0.435146\tvalidation_1-mlogloss:0.980796\n",
            "[54]\tvalidation_0-merror:0.152603\tvalidation_0-mlogloss:0.520044\tvalidation_1-merror:0.439331\tvalidation_1-mlogloss:0.982613\n",
            "[55]\tvalidation_0-merror:0.147217\tvalidation_0-mlogloss:0.515384\tvalidation_1-merror:0.443515\tvalidation_1-mlogloss:0.983427\n",
            "[56]\tvalidation_0-merror:0.143627\tvalidation_0-mlogloss:0.511569\tvalidation_1-merror:0.443515\tvalidation_1-mlogloss:0.983827\n",
            "[57]\tvalidation_0-merror:0.140036\tvalidation_0-mlogloss:0.507797\tvalidation_1-merror:0.443515\tvalidation_1-mlogloss:0.98458\n",
            "[58]\tvalidation_0-merror:0.140036\tvalidation_0-mlogloss:0.503529\tvalidation_1-merror:0.443515\tvalidation_1-mlogloss:0.985418\n",
            "[59]\tvalidation_0-merror:0.13465\tvalidation_0-mlogloss:0.49949\tvalidation_1-merror:0.443515\tvalidation_1-mlogloss:0.986078\n",
            "[60]\tvalidation_0-merror:0.13465\tvalidation_0-mlogloss:0.49598\tvalidation_1-merror:0.439331\tvalidation_1-mlogloss:0.987561\n",
            "[61]\tvalidation_0-merror:0.13465\tvalidation_0-mlogloss:0.491445\tvalidation_1-merror:0.443515\tvalidation_1-mlogloss:0.98807\n",
            "[62]\tvalidation_0-merror:0.13465\tvalidation_0-mlogloss:0.487432\tvalidation_1-merror:0.447699\tvalidation_1-mlogloss:0.991086\n",
            "[63]\tvalidation_0-merror:0.132855\tvalidation_0-mlogloss:0.48372\tvalidation_1-merror:0.439331\tvalidation_1-mlogloss:0.990357\n",
            "[64]\tvalidation_0-merror:0.131059\tvalidation_0-mlogloss:0.480066\tvalidation_1-merror:0.435146\tvalidation_1-mlogloss:0.989825\n",
            "[65]\tvalidation_0-merror:0.127469\tvalidation_0-mlogloss:0.476474\tvalidation_1-merror:0.435146\tvalidation_1-mlogloss:0.989995\n",
            "[66]\tvalidation_0-merror:0.127469\tvalidation_0-mlogloss:0.472439\tvalidation_1-merror:0.439331\tvalidation_1-mlogloss:0.989543\n",
            "[67]\tvalidation_0-merror:0.122083\tvalidation_0-mlogloss:0.468287\tvalidation_1-merror:0.435146\tvalidation_1-mlogloss:0.990562\n",
            "[68]\tvalidation_0-merror:0.118492\tvalidation_0-mlogloss:0.464643\tvalidation_1-merror:0.439331\tvalidation_1-mlogloss:0.990672\n",
            "[69]\tvalidation_0-merror:0.118492\tvalidation_0-mlogloss:0.460835\tvalidation_1-merror:0.435146\tvalidation_1-mlogloss:0.991048\n",
            "[70]\tvalidation_0-merror:0.116697\tvalidation_0-mlogloss:0.457338\tvalidation_1-merror:0.439331\tvalidation_1-mlogloss:0.99226\n",
            "[71]\tvalidation_0-merror:0.116697\tvalidation_0-mlogloss:0.453844\tvalidation_1-merror:0.439331\tvalidation_1-mlogloss:0.993136\n",
            "[72]\tvalidation_0-merror:0.116697\tvalidation_0-mlogloss:0.450348\tvalidation_1-merror:0.443515\tvalidation_1-mlogloss:0.992746\n",
            "[73]\tvalidation_0-merror:0.114901\tvalidation_0-mlogloss:0.447083\tvalidation_1-merror:0.443515\tvalidation_1-mlogloss:0.995575\n",
            "[74]\tvalidation_0-merror:0.111311\tvalidation_0-mlogloss:0.443213\tvalidation_1-merror:0.435146\tvalidation_1-mlogloss:0.996145\n",
            "[75]\tvalidation_0-merror:0.105925\tvalidation_0-mlogloss:0.439713\tvalidation_1-merror:0.439331\tvalidation_1-mlogloss:0.995793\n",
            "[76]\tvalidation_0-merror:0.105925\tvalidation_0-mlogloss:0.436559\tvalidation_1-merror:0.439331\tvalidation_1-mlogloss:0.997976\n",
            "[77]\tvalidation_0-merror:0.10772\tvalidation_0-mlogloss:0.433444\tvalidation_1-merror:0.439331\tvalidation_1-mlogloss:0.998523\n",
            "[78]\tvalidation_0-merror:0.104129\tvalidation_0-mlogloss:0.430198\tvalidation_1-merror:0.439331\tvalidation_1-mlogloss:1.00021\n",
            "[79]\tvalidation_0-merror:0.104129\tvalidation_0-mlogloss:0.426886\tvalidation_1-merror:0.439331\tvalidation_1-mlogloss:1.00104\n",
            "[80]\tvalidation_0-merror:0.105925\tvalidation_0-mlogloss:0.423586\tvalidation_1-merror:0.435146\tvalidation_1-mlogloss:1.00057\n",
            "[81]\tvalidation_0-merror:0.105925\tvalidation_0-mlogloss:0.420941\tvalidation_1-merror:0.439331\tvalidation_1-mlogloss:1.00081\n",
            "[82]\tvalidation_0-merror:0.102334\tvalidation_0-mlogloss:0.418265\tvalidation_1-merror:0.443515\tvalidation_1-mlogloss:1.00006\n",
            "[83]\tvalidation_0-merror:0.104129\tvalidation_0-mlogloss:0.41508\tvalidation_1-merror:0.443515\tvalidation_1-mlogloss:1.00007\n",
            "[84]\tvalidation_0-merror:0.100539\tvalidation_0-mlogloss:0.412654\tvalidation_1-merror:0.439331\tvalidation_1-mlogloss:1.00012\n",
            "[85]\tvalidation_0-merror:0.095153\tvalidation_0-mlogloss:0.409348\tvalidation_1-merror:0.447699\tvalidation_1-mlogloss:1.00016\n",
            "[86]\tvalidation_0-merror:0.093357\tvalidation_0-mlogloss:0.406737\tvalidation_1-merror:0.443515\tvalidation_1-mlogloss:0.999142\n",
            "[87]\tvalidation_0-merror:0.095153\tvalidation_0-mlogloss:0.403687\tvalidation_1-merror:0.443515\tvalidation_1-mlogloss:0.999221\n",
            "[88]\tvalidation_0-merror:0.093357\tvalidation_0-mlogloss:0.401539\tvalidation_1-merror:0.435146\tvalidation_1-mlogloss:0.999421\n",
            "[89]\tvalidation_0-merror:0.093357\tvalidation_0-mlogloss:0.398503\tvalidation_1-merror:0.435146\tvalidation_1-mlogloss:0.999774\n",
            "[90]\tvalidation_0-merror:0.093357\tvalidation_0-mlogloss:0.395554\tvalidation_1-merror:0.426778\tvalidation_1-mlogloss:1.00063\n",
            "[91]\tvalidation_0-merror:0.093357\tvalidation_0-mlogloss:0.393509\tvalidation_1-merror:0.426778\tvalidation_1-mlogloss:1.00118\n",
            "[92]\tvalidation_0-merror:0.091562\tvalidation_0-mlogloss:0.390749\tvalidation_1-merror:0.435146\tvalidation_1-mlogloss:1.00057\n",
            "[93]\tvalidation_0-merror:0.089767\tvalidation_0-mlogloss:0.38812\tvalidation_1-merror:0.435146\tvalidation_1-mlogloss:1.00284\n",
            "[94]\tvalidation_0-merror:0.089767\tvalidation_0-mlogloss:0.385802\tvalidation_1-merror:0.435146\tvalidation_1-mlogloss:1.00485\n",
            "[95]\tvalidation_0-merror:0.089767\tvalidation_0-mlogloss:0.383202\tvalidation_1-merror:0.435146\tvalidation_1-mlogloss:1.00399\n",
            "[96]\tvalidation_0-merror:0.089767\tvalidation_0-mlogloss:0.380411\tvalidation_1-merror:0.439331\tvalidation_1-mlogloss:1.0043\n",
            "[97]\tvalidation_0-merror:0.089767\tvalidation_0-mlogloss:0.377493\tvalidation_1-merror:0.439331\tvalidation_1-mlogloss:1.00417\n",
            "[98]\tvalidation_0-merror:0.087971\tvalidation_0-mlogloss:0.374875\tvalidation_1-merror:0.435146\tvalidation_1-mlogloss:1.00538\n",
            "[99]\tvalidation_0-merror:0.086176\tvalidation_0-mlogloss:0.3727\tvalidation_1-merror:0.439331\tvalidation_1-mlogloss:1.00708\n"
          ]
        },
        {
          "output_type": "execute_result",
          "data": {
            "text/plain": [
              "XGBClassifier(early_stopping_rounds=10, eval_metric=['merror', 'mlogloss'],\n",
              "              missing=1, num_class=3, objective='multi:softprob', seed=42)"
            ]
          },
          "metadata": {},
          "execution_count": 52
        }
      ]
    },
    {
      "cell_type": "code",
      "source": [
        "results = xgb_clf.evals_result()\n",
        "epochs = len(results['validation_0']['mlogloss'])\n",
        "x_axis = range(0, epochs)"
      ],
      "metadata": {
        "id": "WEHDa6FoIrDq"
      },
      "execution_count": 54,
      "outputs": []
    },
    {
      "cell_type": "code",
      "source": [
        "y_pred = xgb_clf.predict(X_test)\n",
        "xgb_acc = accuracy_score(y_test, y_pred)\n",
        "xgb_f1s = f1_score(y_test, y_pred, average='weighted')"
      ],
      "metadata": {
        "id": "58CZZG24Kqhl"
      },
      "execution_count": 56,
      "outputs": []
    },
    {
      "cell_type": "code",
      "source": [
        "confusion_matrix = confusion_matrix(y_test, y_pred)"
      ],
      "metadata": {
        "id": "iuUo923KK0dg"
      },
      "execution_count": 58,
      "outputs": []
    },
    {
      "cell_type": "code",
      "source": [
        "print('\\n------------------ Confusion Matrix -----------------\\n')\n",
        "print(confusion_matrix)\n",
        "print('\\n-------------------- Key Metrics --------------------')\n",
        "print('\\nAccuracy: {:.2f}'.format(xgb_acc))\n",
        "print('Weighted F1-score: {:.2f}'.format(xgb_f1s))"
      ],
      "metadata": {
        "colab": {
          "base_uri": "https://localhost:8080/"
        },
        "id": "RPaOToGpIrGK",
        "outputId": "c176d229-7e80-45fd-d721-caf1aba1bcb9"
      },
      "execution_count": 60,
      "outputs": [
        {
          "output_type": "stream",
          "name": "stdout",
          "text": [
            "\n",
            "------------------ Confusion Matrix -----------------\n",
            "\n",
            "[[82  9  6]\n",
            " [13 46 12]\n",
            " [ 7  4 39]]\n",
            "\n",
            "-------------------- Key Metrics --------------------\n",
            "\n",
            "Accuracy: 0.76\n",
            "Weighted F1-score: 0.68\n"
          ]
        }
      ]
    },
    {
      "cell_type": "markdown",
      "source": [
        "## ANN with back-propogation"
      ],
      "metadata": {
        "id": "UjJUL5S3Jo3z"
      }
    },
    {
      "cell_type": "code",
      "source": [
        "import numpy as np\n",
        "class NeuralNetwork:\n",
        "\tdef __init__(self, layers, alpha=0.1):\n",
        "\t\t# initialize the list of weights matrices, then store the\n",
        "\t\t# network architecture and learning rate\n",
        "\t\tself.W = []\n",
        "\t\tself.layers = layers\n",
        "\t\tself.alpha = alpha\n",
        "        \t\t# start looping from the index of the first layer but\n",
        "\t\t# stop before we reach the last two layers\n",
        "\t\tfor i in np.arange(0, len(layers) - 2):\n",
        "\t\t\t# randomly initialize a weight matrix connecting the\n",
        "\t\t\t# number of nodes in each respective layer together,\n",
        "\t\t\t# adding an extra node for the bias\n",
        "\t\t\tw = np.random.randn(layers[i] + 1, layers[i + 1] + 1)\n",
        "\t\t\tself.W.append(w / np.sqrt(layers[i]))\n",
        "        # the last two layers are a special case where the input\n",
        "\t\t# connections need a bias term but the output does not\n",
        "\t\tw = np.random.randn(layers[-2] + 1, layers[-1])\n",
        "\t\tself.W.append(w / np.sqrt(layers[-2]))\n",
        "  \n",
        "    def __repr__(self):\n",
        "\t\t# construct and return a string that represents the network\n",
        "\t\t# architecture\n",
        "\t\treturn \"NeuralNetwork: {}\".format(\n",
        "\t\t\t\"-\".join(str(l) for l in self.layers))\n"
      ],
      "metadata": {
        "id": "enmRBN-hIrQ4"
      },
      "execution_count": null,
      "outputs": []
    },
    {
      "cell_type": "markdown",
      "source": [
        "# 6) Comparing Results from different models"
      ],
      "metadata": {
        "id": "Elz1EgP5J458"
      }
    },
    {
      "cell_type": "code",
      "source": [
        "compare_result = [['SVM Classifier',svc_acc,svc_f1s],['XGBoost',xgb_acc,xgb_f1s],['ANN with Back Propogation',0,0]]\n",
        "df = pd.DataFrame(compare_result,columns=['Model Name','Accuracy','Weighted F1 Scores'])"
      ],
      "metadata": {
        "id": "iMD7FaB5shHy"
      },
      "execution_count": 76,
      "outputs": []
    },
    {
      "cell_type": "code",
      "source": [
        "df.head()"
      ],
      "metadata": {
        "colab": {
          "base_uri": "https://localhost:8080/",
          "height": 143
        },
        "id": "pqhHLnPRL7ej",
        "outputId": "b79ba50e-3cda-4169-9496-e9d54b237614"
      },
      "execution_count": 77,
      "outputs": [
        {
          "output_type": "execute_result",
          "data": {
            "text/plain": [
              "                  Model Name  Accuracy  Weighted F1 Scores\n",
              "0             SVM Classifier  0.722594            0.723882\n",
              "1                    XGBoost  0.760669            0.683084\n",
              "2  ANN with Back Propogation  0.000000            0.000000"
            ],
            "text/html": [
              "\n",
              "  <div id=\"df-6b1454d9-4580-48bf-ae69-92a036340d6a\">\n",
              "    <div class=\"colab-df-container\">\n",
              "      <div>\n",
              "<style scoped>\n",
              "    .dataframe tbody tr th:only-of-type {\n",
              "        vertical-align: middle;\n",
              "    }\n",
              "\n",
              "    .dataframe tbody tr th {\n",
              "        vertical-align: top;\n",
              "    }\n",
              "\n",
              "    .dataframe thead th {\n",
              "        text-align: right;\n",
              "    }\n",
              "</style>\n",
              "<table border=\"1\" class=\"dataframe\">\n",
              "  <thead>\n",
              "    <tr style=\"text-align: right;\">\n",
              "      <th></th>\n",
              "      <th>Model Name</th>\n",
              "      <th>Accuracy</th>\n",
              "      <th>Weighted F1 Scores</th>\n",
              "    </tr>\n",
              "  </thead>\n",
              "  <tbody>\n",
              "    <tr>\n",
              "      <th>0</th>\n",
              "      <td>SVM Classifier</td>\n",
              "      <td>0.722594</td>\n",
              "      <td>0.723882</td>\n",
              "    </tr>\n",
              "    <tr>\n",
              "      <th>1</th>\n",
              "      <td>XGBoost</td>\n",
              "      <td>0.760669</td>\n",
              "      <td>0.683084</td>\n",
              "    </tr>\n",
              "    <tr>\n",
              "      <th>2</th>\n",
              "      <td>ANN with Back Propogation</td>\n",
              "      <td>0.000000</td>\n",
              "      <td>0.000000</td>\n",
              "    </tr>\n",
              "  </tbody>\n",
              "</table>\n",
              "</div>\n",
              "      <button class=\"colab-df-convert\" onclick=\"convertToInteractive('df-6b1454d9-4580-48bf-ae69-92a036340d6a')\"\n",
              "              title=\"Convert this dataframe to an interactive table.\"\n",
              "              style=\"display:none;\">\n",
              "        \n",
              "  <svg xmlns=\"http://www.w3.org/2000/svg\" height=\"24px\"viewBox=\"0 0 24 24\"\n",
              "       width=\"24px\">\n",
              "    <path d=\"M0 0h24v24H0V0z\" fill=\"none\"/>\n",
              "    <path d=\"M18.56 5.44l.94 2.06.94-2.06 2.06-.94-2.06-.94-.94-2.06-.94 2.06-2.06.94zm-11 1L8.5 8.5l.94-2.06 2.06-.94-2.06-.94L8.5 2.5l-.94 2.06-2.06.94zm10 10l.94 2.06.94-2.06 2.06-.94-2.06-.94-.94-2.06-.94 2.06-2.06.94z\"/><path d=\"M17.41 7.96l-1.37-1.37c-.4-.4-.92-.59-1.43-.59-.52 0-1.04.2-1.43.59L10.3 9.45l-7.72 7.72c-.78.78-.78 2.05 0 2.83L4 21.41c.39.39.9.59 1.41.59.51 0 1.02-.2 1.41-.59l7.78-7.78 2.81-2.81c.8-.78.8-2.07 0-2.86zM5.41 20L4 18.59l7.72-7.72 1.47 1.35L5.41 20z\"/>\n",
              "  </svg>\n",
              "      </button>\n",
              "      \n",
              "  <style>\n",
              "    .colab-df-container {\n",
              "      display:flex;\n",
              "      flex-wrap:wrap;\n",
              "      gap: 12px;\n",
              "    }\n",
              "\n",
              "    .colab-df-convert {\n",
              "      background-color: #E8F0FE;\n",
              "      border: none;\n",
              "      border-radius: 50%;\n",
              "      cursor: pointer;\n",
              "      display: none;\n",
              "      fill: #1967D2;\n",
              "      height: 32px;\n",
              "      padding: 0 0 0 0;\n",
              "      width: 32px;\n",
              "    }\n",
              "\n",
              "    .colab-df-convert:hover {\n",
              "      background-color: #E2EBFA;\n",
              "      box-shadow: 0px 1px 2px rgba(60, 64, 67, 0.3), 0px 1px 3px 1px rgba(60, 64, 67, 0.15);\n",
              "      fill: #174EA6;\n",
              "    }\n",
              "\n",
              "    [theme=dark] .colab-df-convert {\n",
              "      background-color: #3B4455;\n",
              "      fill: #D2E3FC;\n",
              "    }\n",
              "\n",
              "    [theme=dark] .colab-df-convert:hover {\n",
              "      background-color: #434B5C;\n",
              "      box-shadow: 0px 1px 3px 1px rgba(0, 0, 0, 0.15);\n",
              "      filter: drop-shadow(0px 1px 2px rgba(0, 0, 0, 0.3));\n",
              "      fill: #FFFFFF;\n",
              "    }\n",
              "  </style>\n",
              "\n",
              "      <script>\n",
              "        const buttonEl =\n",
              "          document.querySelector('#df-6b1454d9-4580-48bf-ae69-92a036340d6a button.colab-df-convert');\n",
              "        buttonEl.style.display =\n",
              "          google.colab.kernel.accessAllowed ? 'block' : 'none';\n",
              "\n",
              "        async function convertToInteractive(key) {\n",
              "          const element = document.querySelector('#df-6b1454d9-4580-48bf-ae69-92a036340d6a');\n",
              "          const dataTable =\n",
              "            await google.colab.kernel.invokeFunction('convertToInteractive',\n",
              "                                                     [key], {});\n",
              "          if (!dataTable) return;\n",
              "\n",
              "          const docLinkHtml = 'Like what you see? Visit the ' +\n",
              "            '<a target=\"_blank\" href=https://colab.research.google.com/notebooks/data_table.ipynb>data table notebook</a>'\n",
              "            + ' to learn more about interactive tables.';\n",
              "          element.innerHTML = '';\n",
              "          dataTable['output_type'] = 'display_data';\n",
              "          await google.colab.output.renderOutput(dataTable, element);\n",
              "          const docLink = document.createElement('div');\n",
              "          docLink.innerHTML = docLinkHtml;\n",
              "          element.appendChild(docLink);\n",
              "        }\n",
              "      </script>\n",
              "    </div>\n",
              "  </div>\n",
              "  "
            ]
          },
          "metadata": {},
          "execution_count": 77
        }
      ]
    }
  ]
}